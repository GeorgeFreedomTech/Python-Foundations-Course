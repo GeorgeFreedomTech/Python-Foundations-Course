{
 "cells": [
  {
   "cell_type": "markdown",
   "id": "acd54519",
   "metadata": {},
   "source": [
    "## practise\n",
    "### Scenario: Processing incoming status emails for mission control\n",
    "```python\n",
    "email_address = \"  Agent_Blue@Command.base  \" # Example email with extra spaces and mixed case\n",
    "```\n",
    "1.  **Data Standardization:**\n",
    "    - Get the original length of the `email_address` string.\n",
    "    - Remove leading/trailing whitespace using `.strip()`. Store the result in `cleaned_email`.\n",
    "    - Get the length of the `cleaned_email`.\n",
    "    - Convert `cleaned_email` to lowercase. Store the result in `standard_email`.\n",
    "    - Print the original length, cleaned length, and the final `standard_email`.\n",
    "\n",
    "---\n",
    "\n",
    "2.  **Format Verification:**\n",
    "    - Using the `standard_email` (cleaned, lowercase) from step 1:\n",
    "    - Verify it contains the `\"@\"` symbol (use the `in` operator for this check).\n",
    "    - Verify it ends with the `.base` domain suffix using `.endswith()`.\n",
    "    - Print the boolean results (`True`/`False`) of these two checks.\n",
    "\n",
    "---\n",
    "\n",
    "3.  **Content Processing & Extraction:**\n",
    "    - Using the `standard_email`:\n",
    "    - Replace the user part `\"agent_blue\"` with `\"field_op_red\"` using `.replace()`. Store the result in `updated_email`.\n",
    "    - Count the number of occurrences of the letter `\"e\"` in the `updated_email` using `.count()`.\n",
    "    - Verify if the `updated_email` starts with `\"field_op_red\"` using `.startswith()`.\n",
    "    - Split the `updated_email` into user part and domain part based on the `\"@\"` symbol using `.split()`. Store the resulting list in `email_components`.\n",
    "    - Print the `updated_email`, the count of `\"e\"`, the boolean result of the `startswith` check, and the `email_components` list."
   ]
  },
  {
   "cell_type": "markdown",
   "id": "49bae5dc",
   "metadata": {},
   "source": [
    "## Solutions\n",
    "- Only look at the solutions after you have tried solving the exercises `using your own effort` and are truly stuck.\n",
    "- `There are usually multiple ways to solve a task.`\n",
    "- The solutions below implement the logic described in the exercises using concepts from this lesson."
   ]
  },
  {
   "cell_type": "code",
   "execution_count": null,
   "id": "f4b7d462",
   "metadata": {},
   "outputs": [],
   "source": [
    "# 1. Data Standardization\n",
    "# Initial email as defined in the English practise section\n",
    "email_address = \"  Agent_Blue@Command.base  \"\n",
    "\n",
    "# Get original length\n",
    "original_length = len(email_address)\n",
    "\n",
    "# Remove leading/trailing whitespace\n",
    "cleaned_email = email_address.strip()\n",
    "\n",
    "# Get cleaned length\n",
    "cleaned_length = len(cleaned_email)\n",
    "\n",
    "# Convert to lowercase\n",
    "standard_email = cleaned_email.lower()\n",
    "\n",
    "# Print results as requested in the English exercise description\n",
    "print(f\"Original length: {original_length}\")\n",
    "print(f\"Cleaned length: {cleaned_length}\")\n",
    "print(f\"Standardized email: {standard_email}\")\n",
    "# Expected output for this initial value:\n",
    "# Original length: 28\n",
    "# Cleaned length: 26\n",
    "# Standardized email: agent_blue@command.base"
   ]
  },
  {
   "cell_type": "code",
   "execution_count": null,
   "id": "e8c00228",
   "metadata": {},
   "outputs": [],
   "source": [
    "# 2. Format Verification\n",
    "# We use the 'standard_email' variable from the previous step's result\n",
    "# Assumes standard_email = \"agent_blue@command.base\"\n",
    "\n",
    "# Verify email contains \"@\"\n",
    "contains_at = standard_email.find(\"@\")\n",
    "\n",
    "# Verify it ends with \".base\"\n",
    "ends_with_base = standard_email.endswith(\".base\")\n",
    "\n",
    "# Print boolean results as requested\n",
    "print(f\"Contains '@' at the position: {contains_at}, if -1 then no '@' found\")\n",
    "print(f\"Ends with '.base': {ends_with_base}\")\n",
    "# Expected output:\n",
    "# Contains '@': True\n",
    "# Ends with '.base': True"
   ]
  },
  {
   "cell_type": "code",
   "execution_count": null,
   "id": "1ded41ba",
   "metadata": {},
   "outputs": [],
   "source": [
    "# 3. Content Processing & Extraction\n",
    "# We use the 'standard_email' variable again\n",
    "# Assumes standard_email = \"agent_blue@command.base\"\n",
    "\n",
    "# Replace \"agent_blue\" with \"field_op_red\"\n",
    "updated_email = standard_email.replace(\"agent_blue\", \"field_op_red\")\n",
    "\n",
    "# Count occurrences of \"e\"\n",
    "e_count = updated_email.count(\"e\")\n",
    "\n",
    "# Verify if it starts with \"field_op_red\"\n",
    "starts_with_new = updated_email.startswith(\"field_op_red\")\n",
    "\n",
    "# Split into user and domain parts based on \"@\"\n",
    "email_components = updated_email.split(\"@\")\n",
    "\n",
    "# Print results:\n",
    "print(f\"Updated email: {updated_email}\")\n",
    "print(f\"Count of 'e': {e_count}\")\n",
    "print(f\"Starts with 'field_op_red': {starts_with_new}\")\n",
    "print(f\"Email components: {email_components}\")\n",
    "\n",
    "# Expected output:\n",
    "# Updated email: field_op_red@command.base\n",
    "# Count of 'e': 3\n",
    "# Starts with 'field_op_red': True\n",
    "# Email components: ['field_op_red', 'command.base']"
   ]
  },
  {
   "cell_type": "markdown",
   "id": "d86cac60",
   "metadata": {},
   "source": [
    "---\n",
    "#### © Jiří Svoboda (George Freedom)\n",
    "- Web: https://GeorgeFreedom.com\n",
    "- LinkedIn: https://www.linkedin.com/in/georgefreedom/\n",
    "- Book me: https://cal.com/george-freedom-tech-mentor"
   ]
  }
 ],
 "metadata": {
  "language_info": {
   "name": "python"
  }
 },
 "nbformat": 4,
 "nbformat_minor": 5
}
