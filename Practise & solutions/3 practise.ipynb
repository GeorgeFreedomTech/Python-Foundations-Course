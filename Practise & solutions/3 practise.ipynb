{
 "cells": [
  {
   "cell_type": "markdown",
   "id": "1292840b",
   "metadata": {},
   "source": [
    "## practise\n",
    "\n",
    "1.  **Asset ID Validation:**\n",
    "    - You are tracking valuable assets. Each asset has a unique ID.\n",
    "    - Ask the user to input an `asset_id`.\n",
    "    - Verify if the entered `asset_id` string adheres to the standard format:\n",
    "        - It must start with the prefix `\"ASSET_\"` (case-sensitive).\n",
    "        - It must be exactly 12 characters long in total (e.g., \"ASSET_123456\").\n",
    "        - The 6 characters *after* the prefix must all be decimal digits (`0`-`9`).\n",
    "    - Print `\"Valid ID Format\"` if all conditions are met.\n",
    "    - Print `\"Invalid ID Format\"` otherwise.\n",
    "\n",
    "---\n",
    "\n",
    "2.  **Suspicious Message Check:**\n",
    "    - You are monitoring incoming text messages for potential alerts.\n",
    "    - Ask the user to input a `message_text`. Deal with case-insensitive inputs.\n",
    "    - Check if the message contains any of the keywords indicating a potential issue: `\"danger\"`, `\"alert\"`, `\"fail\"`.\n",
    "    - If *any* of these keywords are found (using the `in` operator and `or`), print: `\"Warning: Potential issue detected in message!\"`\n",
    "    - Otherwise (if none of the keywords are found), print: `\"Message seems clear.\"`\n",
    "\n",
    "---\n",
    "\n",
    "3.  **Access Control Verification:**\n",
    "    - Simulate an access control point. Request `first_name`, `last_name`, and `age` from the user via `input()`.\n",
    "    - **Crucially, clean all three inputs immediately after getting them:** e.g. remove whitespaces etc.  \n",
    "    - Implement the following access logic based on the **cleaned** inputs:\n",
    "        - If `age` is less than 18, print: `\"Access Denied: Underage.\"`\n",
    "        - If the cleaned `first_name` is `\"john\"` and the cleaned `last_name` is `\"doe\"`, print: `\"ALERT: Target 'John Doe' identified! Security protocol initiated!\"`\n",
    "        - if `age` is exactly 18, print: `\"Access Granted (Level 1 Clearance - Escort Required).\"`\n",
    "        - if `age` is greater than 18 **and** less than 25, print: `\"Access Granted (Level 2 Clearance).\"`\n",
    "        - if `age` is greater than 25, print: `\"Access Granted (Level 3 Clearance - Full Access).\"`"
   ]
  },
  {
   "cell_type": "markdown",
   "id": "a5896c9c",
   "metadata": {},
   "source": [
    "## Solutions\n",
    "- Only look at the solutions after you have tried solving the exercises `using your own effort` and are truly stuck.\n",
    "- `There are usually multiple ways to solve a task.`\n",
    "- The solutions below implement the logic described in the exercises using concepts from this lesson."
   ]
  },
  {
   "cell_type": "code",
   "execution_count": null,
   "id": "db5da763",
   "metadata": {},
   "outputs": [],
   "source": [
    "# 1. Asset ID Validation\n",
    "asset_id = input(\"Enter asset ID: \")\n",
    "\n",
    "# Check prefix and length\n",
    "is_valid_prefix = asset_id.startswith(\"ASSET_\")\n",
    "is_valid_length = len(asset_id) == 12\n",
    "\n",
    "# Validation based on prefix and length\n",
    "if is_valid_prefix and is_valid_length:\n",
    "    print(\"Valid ID Format (Prefix and Length OK)\")\n",
    "else:\n",
    "    print(\"Invalid ID Format\")\n",
    "    # Provide feedback based on the checks performed\n",
    "    if not is_valid_prefix:\n",
    "        print(\"- ID must start with 'ASSET_'.\")\n",
    "    if not is_valid_length:\n",
    "        print(f\"- ID must be exactly 12 characters long (was {len(asset_id)}).\")\n"
   ]
  },
  {
   "cell_type": "code",
   "execution_count": null,
   "id": "ab574b58",
   "metadata": {},
   "outputs": [],
   "source": [
    "# 2. Suspicious Message Check \n",
    "message_text = input(\"Enter message text: \")\n",
    "message_lower = message_text.lower() # Convert to lowercase for case-insensitive check\n",
    "\n",
    "# Check if any of the keywords are present using 'or' and 'in'\n",
    "if \"danger\" in message_lower or \"alert\" in message_lower or \"fail\" in message_lower:\n",
    "    print(\"Warning: Potential issue detected in message!\")\n",
    "else:\n",
    "    print(\"Message seems clear.\")"
   ]
  },
  {
   "cell_type": "code",
   "execution_count": null,
   "id": "77266079",
   "metadata": {},
   "outputs": [],
   "source": [
    "# 3. Access Control Verification \n",
    "first_name_raw = input(\"Enter first name: \")\n",
    "last_name_raw = input(\"Enter last name: \")\n",
    "age_str_raw = input(\"Enter age: \")\n",
    "\n",
    "# Clean inputs\n",
    "first_name = first_name_raw.strip().lower()\n",
    "last_name = last_name_raw.strip().lower()\n",
    "age_str = age_str_raw.strip() # Strip age string first\n",
    "\n",
    "# --- Target identification ---\n",
    "if first_name == \"john\" and last_name == \"doe\":\n",
    "    print(\"ALERT: Target 'John Doe' identified! Security protocol initiated!\")\n",
    "\n",
    "# Convert age string to integer\n",
    "age = int(age_str)\n",
    "\n",
    "# --- Conditional access logic ---\n",
    "if age < 18:\n",
    "    print(\"Access Denied: Underage.\")\n",
    "# Check for the specific target 'John Doe' before other age checks for >= 18\n",
    "\n",
    "elif age == 18:\n",
    "    print(\"Access Granted (Level 1 Clearance - Escort Required).\")\n",
    "elif age > 18 and age < 25:\n",
    "    print(\"Access Granted (Level 2 Clearance).\")\n",
    "else:\n",
    "    print(\"Access Granted (Level 3 Clearance - Full Access).\")"
   ]
  },
  {
   "cell_type": "markdown",
   "id": "ed9718ed",
   "metadata": {},
   "source": [
    "---\n",
    "#### © Jiří Svoboda (George Freedom)\n",
    "- Web: https://GeorgeFreedom.com\n",
    "- LinkedIn: https://www.linkedin.com/in/georgefreedom/\n",
    "- Book me: https://cal.com/george-freedom-tech-mentor"
   ]
  }
 ],
 "metadata": {
  "language_info": {
   "name": "python"
  }
 },
 "nbformat": 4,
 "nbformat_minor": 5
}
