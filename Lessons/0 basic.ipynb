{
 "cells": [
  {
   "cell_type": "markdown",
   "id": "03d584b1",
   "metadata": {},
   "source": [
    "# 0. Introduction to Python and Setup\n",
    "- Installation\n",
    "- Development Environments\n",
    "- Understanding Code\n",
    "\n",
    "## 0.1. The Python Language & Installation\n",
    "- Python is a `dynamically typed` language with a high level of `abstraction` = it's easy to read, write, and use, ideal for quickly developing ideas.\n",
    "- Download the language from the official website: https://www.python.org/ (section `Downloads`), choose the version for your operating system.\n",
    "- Run the downloaded file and install it – completing the Python setup.\n",
    "\n",
    "## 0.2. Choosing Your Development Environment\n",
    "- Where will we write and run our code? We have several options:\n",
    "    - **1. Online Tools (No local installation required):**\n",
    "        - *Online Interpreter:* E.g., at https://www.online-python.com/, you can quickly try simple commands without installation.\n",
    "        - *Online Jupyter (JupyterLite):* At https://jupyter.org/try, you can try the interactive Jupyter environment directly in your browser, perfect for getting started.\n",
    "    - **2. Basic Options (Included with Python):**\n",
    "        - *`IDLE` (Integrated Development and Learning Environment):* A simple editor and console installed along with Python. Launch it as the \"IDLE\" application.\n",
    "        - *`REPL` (Interactive Console):* After installing Python, just open a terminal (command prompt) and type `python`. You can enter commands directly for quick tests.\n",
    "    - **3. Standalone IDEs (Integrated Development Environments):**\n",
    "        - *`Thonny`:* Great for beginners, simple, free, and includes its own Python, so you don't need a separate installation. https://thonny.org/\n",
    "        - *`Jupyter Notebook/Lab`:* An excellent tool for learning, data analysis, and smaller projects. It combines notes and code in one interactive document. Free. https://jupyter.org/ (Usually installed separately, e.g., via `pip` or as part of the Anaconda distribution).\n",
    "        - *`VS Code`:* A versatile and powerful IDE, free. With extensions for Python and Jupyter, it becomes a flexible tool for various types of projects. https://code.visualstudio.com/\n",
    "        - *`PyCharm`:* A top-tier IDE specialized for Python, ideal for large and complex projects. The Community Edition is free. https://www.jetbrains.com/pycharm/\n",
    "\n",
    "### Our base - Working with Files\n",
    "- Set up a dedicated folder for your projects and notes.\n",
    "- We'll save our interactive notes and code experiments in Jupyter files (extension `.ipynb`) – known as notebooks.\n",
    "- Standalone scripts, larger programs or reusable code can be saved in Python files (extension `.py`).\n",
    "\n",
    "### Our workshop - IDE Recommendations\n",
    "- Many find `Jupyter` an excellent starting point for learning and experimenting, thanks to its combination of code and notes.\n",
    "- As your projects grow (you start working with multiple files, creating your own functions and modules), full-featured `IDEs` like `VS Code` or `PyCharm` might become more comfortable and offer more support tools for managing complex projects. `PyCharm` has particularly strong features for Object-Oriented Programming (building complex systems).\n",
    "\n",
    "### Alternative Approach (Pro Tip)\n",
    "- Alternatively, many developers start directly with a powerful and flexible tool like `VS Code`. By installing extensions (plugins) for Python and Jupyter, you get a versatile environment that adapts to your needs from the beginning through to advanced projects.\n",
    "\n",
    "## 0.3 Introduction to Jupyter Notebooks\n",
    "- You can customize the appearance of the interface (Settings -> Theme -> Light / Dark).\n",
    "\n",
    "### 0.3.1 Markdown Cells & Code Cells\n",
    "- The `Markdown` cell type is for your formatted text notes – your **documentation and explanations**.\n",
    "- When you want to write and execute Python code, you choose a `Code` cell. This is where you **run your code**.\n",
    "- Notice that you can have multiple separate `Code` cells. You can run each one individually and immediately see the output. Handy, right?\n",
    "- Your notebooks are typically saved and accessed locally on your computer (often via an address like `http://localhost:8888/tree`).\n",
    "\n",
    "### 0.3.2. Using Markdown Cells\n",
    "- Create headings for better orientation in your notes using `#` (`# Main Section`, `## Subsection`).\n",
    "- You can structure text with bullet points (using `-`):\n",
    "    - Define project goals\n",
    "    - List required libraries\n",
    "- Or numbered lists (using `1.`, `2.`):\n",
    "    1. Import necessary modules.\n",
    "    2. Load the data.\n",
    "- **Editing Markdown:** Double-click a cell to enter edit mode. Use `Shift + Enter` or `Ctrl + Enter` to render the Markdown and exit edit mode.\n",
    "\n",
    "### 0.3.3. Fields for Experiments (Code)\n",
    "- In the `Code` cell below, you can write and run Python code."
   ]
  },
  {
   "cell_type": "code",
   "execution_count": null,
   "id": "3b822e3c",
   "metadata": {},
   "outputs": [],
   "source": [
    "# This is where you write your Python commands (code).\n",
    "# Run the experiment using the `Play` button (▶️) in the toolbar or the keyboard shortcut `Shift + Enter`.\n",
    "# To clear the results of an experiment, right-click the cell and choose \"Clear cell output\".\n",
    "# This is a comment.\n",
    "\n",
    "print(\"Python is the language I want to master for my explorations!\")"
   ]
  },
  {
   "cell_type": "markdown",
   "id": "3c7706e5",
   "metadata": {},
   "source": [
    "## 0.4. Python - Language, words and phrases\n",
    "Vocabulary: \n",
    "- Like any language, Python has its vocabulary. The good news? It's much smaller than a human language! You don't need to learn everything at once, but it's motivating to see the core components - words / `Keywords` (Reserved Words) & phrases / `Built-in Functions`:"
   ]
  },
  {
   "cell_type": "code",
   "execution_count": null,
   "id": "5a8d20a3",
   "metadata": {},
   "outputs": [],
   "source": [
    "# These keywords are the fundamental building blocks with special meanings. There aren't that many!\n",
    "\n",
    "False\tawait\t    else\timport\t    pass\n",
    "None\tbreak\t    except\tin\t        raise\n",
    "True\tclass\t    finally\tis\t        return\n",
    "and\t    continue\tfor\t    lambda\t    try\n",
    "as\t    def\t        from\tnonlocal\twhile\n",
    "assert\tdel\t        global\tnot\t        with\n",
    "async\telif\t    if\t    or\t        yield"
   ]
  },
  {
   "cell_type": "code",
   "execution_count": null,
   "id": "8a8d3fa8",
   "metadata": {},
   "outputs": [],
   "source": [
    "# Ready-made tools provided by Python for common tasks. Again, a manageable list to explore over time.\n",
    "\n",
    "abs()            delattr()        hash()          memoryview()      set()\n",
    "all()            dict()           help()          min()             setattr()\n",
    "any()            dir()            hex()           next()            slice()\n",
    "ascii()          divmod()         id()            object()          sorted()\n",
    "bin()            enumerate()      input()         oct()             staticmethod()\n",
    "bool()           eval()           int()           open()            str()\n",
    "breakpoint()     exec()           isinstance()    ord()             sum()\n",
    "bytearray()      filter()         issubclass()    pow()             super()\n",
    "bytes()          float()          iter()          print()           tuple()\n",
    "callable()       format()         len()           property()        type()\n",
    "chr()            frozenset()      list()          range()           vars()\n",
    "classmethod()    getattr()        locals()        repr()            zip()\n",
    "compile()        globals()        map()           reversed()        __import__()\n",
    "complex()        hasattr()        max()           round()"
   ]
  },
  {
   "cell_type": "markdown",
   "id": "2088e816",
   "metadata": {},
   "source": [
    "- Code: \n",
    "    - These are the `instructions` or `commands` we write using Python's vocabulary. They tell the computer what to do and in what `order` – give it a sequence of steps.\n",
    "    - Instructions are typically executed from top to bottom, step by step.\n",
    "\n",
    "- Algorithm: \n",
    "    - A precise procedure, set of instructions, or `route plan` that leads to solving a task or reaching a goal.\n",
    "\n",
    "- Further Resources for Your Expeditions:\n",
    "    - Actively explore: `https://www.w3schools.com/python/` (maps and tutorials)\n",
    "\n",
    "    - Official documentation: `https://docs.python.org/3/tutorial/index.html` (detailed expedition manuals)\n",
    "\n",
    "    - Audiovisual materials: `https://www.python.org/doc/av/` (video logs from expeditions)\n",
    "\n",
    "    - Training challenges: `https://www.codewars.com/` (training camp for problem-solving)"
   ]
  },
  {
   "cell_type": "code",
   "execution_count": null,
   "id": "58be55f8",
   "metadata": {},
   "outputs": [],
   "source": [
    "# Example of a simple plan with two steps:\n",
    "print(\"Starting exploration...\") # First instruction (step)\n",
    "print(\"The area seems interesting!\") # Second instruction (step)\n",
    "\n",
    "# WHAT WILL HAPPEN? The computer receives 2 instructions using the print() function - it should announce/log something.\n",
    "# IN WHAT ORDER? It executes them sequentially, from top to bottom."
   ]
  },
  {
   "cell_type": "markdown",
   "id": "b89491f5",
   "metadata": {},
   "source": [
    "## 0.5 Where Can Python Take You? (Versatility)\n",
    "Python is like a universal `Swiss Army knife` for digital explorers. Its strength lies in its immense `flexibility`. It's used almost `everywhere`: from building web settlements (web development) and analyzing discovered data (data science), through automating routine tasks (automation), to creating artificial intelligence (AI) that helps us navigate complex terrains. Knowing Python opens doors to many fascinating fields and makes it a valuable tool for your future.\n"
   ]
  },
  {
   "cell_type": "markdown",
   "id": "ceef95e9",
   "metadata": {},
   "source": [
    "---\n",
    "#### © Jiří Svoboda (George Freedom)\n",
    "- Web: https://GeorgeFreedom.com\n",
    "- LinkedIn: https://www.linkedin.com/in/georgefreedom/\n",
    "- Book me: https://cal.com/georgefreedom"
   ]
  }
 ],
 "metadata": {
  "language_info": {
   "name": "python"
  }
 },
 "nbformat": 4,
 "nbformat_minor": 5
}
